{
 "cells": [
  {
   "cell_type": "markdown",
   "id": "b54515b5",
   "metadata": {},
   "source": [
    "# 1 \n",
    "Из колоды в 52 карты извлекаются случайным образом 4 карты. a) Найти вероятность того, что все карты – крести. б) Найти вероятность, что среди 4-х карт окажется хотя бы один туз."
   ]
  },
  {
   "cell_type": "code",
   "execution_count": 5,
   "id": "325a1564",
   "metadata": {},
   "outputs": [],
   "source": [
    "import numpy as np\n",
    "from math import factorial"
   ]
  },
  {
   "cell_type": "markdown",
   "id": "231343f9",
   "metadata": {},
   "source": [
    "A)т.к. в колоде 4 масти, то крестовых карт всего 52/4=13. В колоде имеется \n",
    " \n",
    " 13 крестовых карт. Вероятность того что первая карта будет крести 13/52\n",
    " \n",
    ", вероятность что вторая карта будет крести – 12/51\n",
    " \n",
    " и так далее\n",
    "\n",
    "Вероятность того что все черыре карты будут крести P=(13/52)*(12/51)*(11/50)*(10/49)"
   ]
  },
  {
   "cell_type": "code",
   "execution_count": 6,
   "id": "1bf24896",
   "metadata": {},
   "outputs": [],
   "source": [
    "def combinations(n, k):\n",
    "    return int(factorial(n) / (factorial(k) * factorial(n - k)))"
   ]
  },
  {
   "cell_type": "code",
   "execution_count": 7,
   "id": "a8168a4c",
   "metadata": {},
   "outputs": [],
   "source": [
    "a=combinations(13, 4)"
   ]
  },
  {
   "cell_type": "code",
   "execution_count": 9,
   "id": "5be25e74",
   "metadata": {},
   "outputs": [],
   "source": [
    "b=combinations(52, 4 )"
   ]
  },
  {
   "cell_type": "code",
   "execution_count": 10,
   "id": "d6f45f53",
   "metadata": {},
   "outputs": [],
   "source": [
    "c=a/b"
   ]
  },
  {
   "cell_type": "code",
   "execution_count": 11,
   "id": "a789df7c",
   "metadata": {},
   "outputs": [
    {
     "data": {
      "text/plain": [
       "0.0026410564225690276"
      ]
     },
     "execution_count": 11,
     "metadata": {},
     "output_type": "execute_result"
    }
   ],
   "source": [
    "c"
   ]
  },
  {
   "cell_type": "markdown",
   "id": "f6aff722",
   "metadata": {},
   "source": [
    "или через математический пример:"
   ]
  },
  {
   "cell_type": "code",
   "execution_count": 20,
   "id": "e627c6c2",
   "metadata": {},
   "outputs": [
    {
     "data": {
      "text/plain": [
       "0.0026410564225690276"
      ]
     },
     "execution_count": 20,
     "metadata": {},
     "output_type": "execute_result"
    }
   ],
   "source": [
    "P=(13/52)*(12/51)*(11/50)*(10/49)\n",
    "P"
   ]
  },
  {
   "cell_type": "markdown",
   "id": "ee98eab9",
   "metadata": {},
   "source": [
    "как видим результат идентичен в двух вариантах решения С=Р"
   ]
  },
  {
   "cell_type": "markdown",
   "id": "af4e8b2b",
   "metadata": {},
   "source": [
    "B) всего в колоде 4 туза "
   ]
  },
  {
   "cell_type": "code",
   "execution_count": 14,
   "id": "39574678",
   "metadata": {},
   "outputs": [],
   "source": [
    "A=combinations(48, 4)"
   ]
  },
  {
   "cell_type": "code",
   "execution_count": 15,
   "id": "6cdcb2db",
   "metadata": {},
   "outputs": [],
   "source": [
    "B=combinations(52, 4)"
   ]
  },
  {
   "cell_type": "code",
   "execution_count": 16,
   "id": "610d20d5",
   "metadata": {},
   "outputs": [],
   "source": [
    "C=1-A/B"
   ]
  },
  {
   "cell_type": "code",
   "execution_count": 17,
   "id": "7996bf9b",
   "metadata": {},
   "outputs": [
    {
     "data": {
      "text/plain": [
       "0.2812632745405854"
      ]
     },
     "execution_count": 17,
     "metadata": {},
     "output_type": "execute_result"
    }
   ],
   "source": [
    "C"
   ]
  },
  {
   "cell_type": "code",
   "execution_count": 21,
   "id": "9eaf8cd7",
   "metadata": {},
   "outputs": [
    {
     "data": {
      "text/plain": [
       "0.2812632745405854"
      ]
     },
     "execution_count": 21,
     "metadata": {},
     "output_type": "execute_result"
    }
   ],
   "source": [
    "PP=1-(48/52)*(47/51)*(46/50)*(45/49)\n",
    "PP"
   ]
  },
  {
   "cell_type": "markdown",
   "id": "d3584c56",
   "metadata": {},
   "source": [
    "С=РР оба варианта решения идентичны"
   ]
  },
  {
   "cell_type": "markdown",
   "id": "813425ff",
   "metadata": {},
   "source": [
    "# 2\n",
    "На входной двери подъезда установлен кодовый замок, содержащий десять кнопок с цифрами от 0 до 9. Код содержит три цифры, которые нужно нажать одновременно. Какова вероятность того, что человек, не знающий код, откроет дверь с первой попытки?"
   ]
  },
  {
   "cell_type": "markdown",
   "id": "ec30a3e1",
   "metadata": {},
   "source": [
    "Ckn=n!/(k!(n−k)!)"
   ]
  },
  {
   "cell_type": "code",
   "execution_count": 24,
   "id": "953dbf98",
   "metadata": {},
   "outputs": [],
   "source": [
    "def combinations(n, k):\n",
    "    return int(factorial(n) / (factorial(k) * factorial(n - k)))"
   ]
  },
  {
   "cell_type": "code",
   "execution_count": 25,
   "id": "7a147142",
   "metadata": {},
   "outputs": [
    {
     "data": {
      "text/plain": [
       "120"
      ]
     },
     "execution_count": 25,
     "metadata": {},
     "output_type": "execute_result"
    }
   ],
   "source": [
    "combinations(10,3)"
   ]
  },
  {
   "cell_type": "markdown",
   "id": "87410565",
   "metadata": {},
   "source": [
    "у нас 120 сочетаний"
   ]
  },
  {
   "cell_type": "markdown",
   "id": "15ad85a1",
   "metadata": {},
   "source": [
    "число попыток у нас 1, значит вероятность равна:"
   ]
  },
  {
   "cell_type": "code",
   "execution_count": 32,
   "id": "dc963e5d",
   "metadata": {},
   "outputs": [
    {
     "data": {
      "text/plain": [
       "0.8333333333333334"
      ]
     },
     "execution_count": 32,
     "metadata": {},
     "output_type": "execute_result"
    }
   ],
   "source": [
    "1/120*100"
   ]
  },
  {
   "cell_type": "markdown",
   "id": "2665cab4",
   "metadata": {},
   "source": [
    "0.83%"
   ]
  },
  {
   "cell_type": "markdown",
   "id": "c647156f",
   "metadata": {},
   "source": [
    "# 3\n",
    "В ящике имеется 15 деталей, из которых 9 окрашены. Рабочий случайным образом извлекает 3 детали. Какова вероятность того, что все извлеченные детали окрашены?"
   ]
  },
  {
   "cell_type": "markdown",
   "id": "b0c3c11b",
   "metadata": {},
   "source": [
    "Аналогично первой задаче 9/15 * 8/14 * 7/13"
   ]
  },
  {
   "cell_type": "code",
   "execution_count": 27,
   "id": "58e81955",
   "metadata": {},
   "outputs": [
    {
     "data": {
      "text/plain": [
       "0.18461538461538463"
      ]
     },
     "execution_count": 27,
     "metadata": {},
     "output_type": "execute_result"
    }
   ],
   "source": [
    "(9*8*7)/(15*14*13)"
   ]
  },
  {
   "cell_type": "markdown",
   "id": "dcd7f4ea",
   "metadata": {},
   "source": [
    "или в процентах "
   ]
  },
  {
   "cell_type": "code",
   "execution_count": 28,
   "id": "0ba8279a",
   "metadata": {},
   "outputs": [
    {
     "data": {
      "text/plain": [
       "18.461538461538463"
      ]
     },
     "execution_count": 28,
     "metadata": {},
     "output_type": "execute_result"
    }
   ],
   "source": [
    "(9*8*7)/(15*14*13)*100"
   ]
  },
  {
   "cell_type": "markdown",
   "id": "2df7d3da",
   "metadata": {},
   "source": [
    "# 4\n",
    "В лотерее 100 билетов. Из них 2 выигрышных. Какова вероятность того, что 2 приобретенных билета окажутся выигрышными?"
   ]
  },
  {
   "cell_type": "code",
   "execution_count": 31,
   "id": "2b6d6ad2",
   "metadata": {},
   "outputs": [
    {
     "data": {
      "text/plain": [
       "0.0202020202020202"
      ]
     },
     "execution_count": 31,
     "metadata": {},
     "output_type": "execute_result"
    }
   ],
   "source": [
    "2/100*1/99*100"
   ]
  },
  {
   "cell_type": "markdown",
   "id": "8a4ef605",
   "metadata": {},
   "source": [
    "0.02%"
   ]
  },
  {
   "cell_type": "code",
   "execution_count": null,
   "id": "c3930c23",
   "metadata": {},
   "outputs": [],
   "source": []
  }
 ],
 "metadata": {
  "kernelspec": {
   "display_name": "Python 3 (ipykernel)",
   "language": "python",
   "name": "python3"
  },
  "language_info": {
   "codemirror_mode": {
    "name": "ipython",
    "version": 3
   },
   "file_extension": ".py",
   "mimetype": "text/x-python",
   "name": "python",
   "nbconvert_exporter": "python",
   "pygments_lexer": "ipython3",
   "version": "3.9.12"
  }
 },
 "nbformat": 4,
 "nbformat_minor": 5
}
