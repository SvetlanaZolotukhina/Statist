{
 "cells": [
  {
   "cell_type": "markdown",
   "id": "1da2d92c",
   "metadata": {},
   "source": [
    "Домашняя работа к Уроку Урок 7. Многомерный статистический анализ. Линейная регрессия"
   ]
  },
  {
   "cell_type": "code",
   "execution_count": 1,
   "id": "d7550246",
   "metadata": {},
   "outputs": [],
   "source": [
    "import numpy as np\n",
    "import pandas as pd\n",
    "\n",
    "from scipy.stats import norm\n",
    "from math import sqrt"
   ]
  },
  {
   "cell_type": "markdown",
   "id": "36840edf",
   "metadata": {},
   "source": [
    "1. Даны значения величины заработной платы заемщиков банка (zp) и значения их поведенческого кредитного скоринга (ks):\n",
    "zp = [35, 45, 190, 200, 40, 70, 54, 150, 120, 110],\n",
    "\n",
    "ks = [401, 574, 874, 919, 459, 739, 653, 902, 746, 832].\n",
    "\n",
    "Используя математические операции, посчитать коэффициенты линейной регрессии, приняв за X заработную плату (то есть, zp - признак), а за y - значения скорингового балла (то есть, ks - целевая переменная).\n",
    "\n",
    "Произвести расчет как с использованием intercept, так и без."
   ]
  },
  {
   "cell_type": "code",
   "execution_count": 2,
   "id": "27d6f583",
   "metadata": {},
   "outputs": [],
   "source": [
    "x = np.array([35, 45, 190, 200, 40, 70, 54, 150, 120, 110]) #заработная плата заемщиков\n",
    "y = np.array([401, 574, 874, 919, 459, 739, 653, 902, 746, 832]) #поведенческий кредитный скоринг\n",
    "n = len(x)"
   ]
  },
  {
   "cell_type": "code",
   "execution_count": 3,
   "id": "6b2cc242",
   "metadata": {},
   "outputs": [
    {
     "name": "stdout",
     "output_type": "stream",
     "text": [
      "Коэффициент линейной регрессии b - 2.620538882402765,\n",
      "Коэффициент линейной регрессии a - 444.1773573243596,\n",
      "Линейная регрессия - [535.89621821 562.10160703 942.07974498 968.2851338  548.99891262\n",
      " 627.61507909 585.68645697 837.25818968 758.64202321 732.43663439]\n"
     ]
    }
   ],
   "source": [
    "b = (np.mean(x*y) - np.mean(x) * np.mean(y)) / (np.mean(x**2) - np.mean(x)**2)\n",
    "a = np.mean(y) - b * np.mean(x)\n",
    "lr = a + b * x\n",
    "\n",
    "print(f'Коэффициент линейной регрессии b - {b},\\n\\\n",
    "Коэффициент линейной регрессии a - {a},\\n\\\n",
    "Линейная регрессия - {lr}')"
   ]
  },
  {
   "cell_type": "code",
   "execution_count": 4,
   "id": "46caa2f3",
   "metadata": {},
   "outputs": [
    {
     "name": "stdout",
     "output_type": "stream",
     "text": [
      "Коэффициент линейной регрессии b - 2.6205388824027653,\n",
      "Коэффициент линейной регрессии a - 444.17735732435955,\n",
      "Линейная регрессия - [535.89621821 562.10160703 942.07974498 968.2851338  548.99891262\n",
      " 627.61507909 585.68645697 837.25818968 758.64202321 732.43663439]\n"
     ]
    }
   ],
   "source": [
    "b = (n*(np.sum(x*y)) - (np.sum(x)*np.sum(y))) / (n*np.sum(x**2) - np.sum(x)**2)\n",
    "a = np.mean(y) - (b * np.mean(x))\n",
    "lr = a + b * x\n",
    "\n",
    "print(f'Коэффициент линейной регрессии b - {b},\\n\\\n",
    "Коэффициент линейной регрессии a - {a},\\n\\\n",
    "Линейная регрессия - {lr}')"
   ]
  },
  {
   "cell_type": "markdown",
   "id": "fdf0c1ba",
   "metadata": {},
   "source": [
    "Без intercept:"
   ]
  },
  {
   "cell_type": "code",
   "execution_count": 5,
   "id": "1b07c196",
   "metadata": {},
   "outputs": [
    {
     "name": "stdout",
     "output_type": "stream",
     "text": [
      "Коэффициенты линейной регрессии a, b - [[444.17735732]\n",
      " [  2.62053888]]\n"
     ]
    }
   ],
   "source": [
    "y = y.reshape(10,1)\n",
    "x = np.hstack([np.ones((10,1)),x.reshape(10,1)])\n",
    "b = np.linalg.inv(x.T@x)@x.T@y\n",
    "\n",
    "print(f'Коэффициенты линейной регрессии a, b - {b}')"
   ]
  },
  {
   "cell_type": "markdown",
   "id": "8580fb04",
   "metadata": {},
   "source": [
    "Без intercept:"
   ]
  },
  {
   "cell_type": "code",
   "execution_count": 6,
   "id": "6b4c8c60",
   "metadata": {},
   "outputs": [
    {
     "name": "stdout",
     "output_type": "stream",
     "text": [
      "Коэффициенты линейной регрессии b - [[5.88982042]]\n"
     ]
    }
   ],
   "source": [
    "x = np.array([35, 45, 190, 200, 40, 70, 54, 150, 120, 110]) #заработная плата заемщиков\n",
    "y = np.array([401, 574, 874, 919, 459, 739, 653, 902, 746, 832]) #поведенческий кредитный скоринг\n",
    "y = y.reshape(10,1)\n",
    "x = x.reshape(10,1)\n",
    "b = np.dot(np.linalg.inv(np.dot(x.T,x)),x.T @ y)\n",
    "print(f'Коэффициенты линейной регрессии b - {b}')"
   ]
  },
  {
   "cell_type": "markdown",
   "id": "889a046d",
   "metadata": {},
   "source": [
    "2. Посчитать коэффициент линейной регрессии при заработной плате (zp), используя градиентный спуск (без intercept)."
   ]
  },
  {
   "cell_type": "code",
   "execution_count": 7,
   "id": "613e0575",
   "metadata": {},
   "outputs": [
    {
     "name": "stdout",
     "output_type": "stream",
     "text": [
      "Iteration: 0, w1 = 0.25952808, mse = 493237.7212546963\n",
      "Iteration: 1000, w1 = 5.8898204201285544, mse = 56516.85841571941\n",
      "Iteration: 2000, w1 = 5.889820420132673, mse = 56516.85841571943\n",
      "Iteration: 3000, w1 = 5.889820420132673, mse = 56516.85841571943\n",
      "Iteration: 4000, w1 = 5.889820420132673, mse = 56516.85841571943\n",
      "Iteration: 5000, w1 = 5.889820420132673, mse = 56516.85841571943\n",
      "Iteration: 6000, w1 = 5.889820420132673, mse = 56516.85841571943\n",
      "Iteration: 7000, w1 = 5.889820420132673, mse = 56516.85841571943\n",
      "Iteration: 8000, w1 = 5.889820420132673, mse = 56516.85841571943\n",
      "Iteration: 9000, w1 = 5.889820420132673, mse = 56516.85841571943\n"
     ]
    }
   ],
   "source": [
    "x = np.array([35, 45, 190, 200, 40, 70, 54, 150, 120, 110]) #заработная плата заемщиков\n",
    "y = np.array([401, 574, 874, 919, 459, 739, 653, 902, 746, 832]) #поведенческий кредитный скоринг\n",
    "n = len(x)\n",
    "α = 1e-6\n",
    "w1 = 0.1\n",
    "\n",
    "def mse(w1=w1, y=y, x=x, n=n):\n",
    "    return np.sum((w1 * x - y)**2) / n\n",
    "\n",
    "for i in range (10000):\n",
    "    w1 -= α * (2 / n) * np.sum((w1 * x - y) * x)\n",
    "    if i % 1000 == 0:\n",
    "        print('Iteration: {i}, w1 = {w1}, mse = {mse}'.format(i=i, w1=w1, mse=mse(w1)))"
   ]
  },
  {
   "cell_type": "markdown",
   "id": "1c944ab7",
   "metadata": {},
   "source": [
    "*3. Произвести вычисления как в пункте 2, но с вычислением intercept.\n",
    "Учесть, что изменение коэффициентов должно производиться на каждом шаге одновременно (то есть изменение одного коэффициента не должно влиять на изменение другого во время одной итерации)."
   ]
  },
  {
   "cell_type": "code",
   "execution_count": 8,
   "id": "0976a007",
   "metadata": {},
   "outputs": [
    {
     "name": "stdout",
     "output_type": "stream",
     "text": [
      "Iteration: 99999, w0 = 409.0433461286659, w1 = 2.8791341788412166, mse = 514315.2095476479\n",
      "Iteration: 199999, w0 = 441.3973975290733, w1 = 2.6410000965620286, mse = 514647.1684263695\n",
      "Iteration: 299999, w0 = 443.9573944963097, w1 = 2.6221578650008004, mse = 514673.4393366432\n",
      "Iteration: 399999, w0 = 444.15995288354543, w1 = 2.620666983532654, mse = 514675.5180386451\n",
      "Iteration: 499999, w0 = 444.1759802073114, w1 = 2.620549018335988, mse = 514675.68251501594\n",
      "Iteration: 599999, w0 = 444.1772483607103, w1 = 2.620539684403057, mse = 514675.6955291218\n",
      "Iteration: 699999, w0 = 444.17734870266753, w1 = 2.6205389458606207, mse = 514675.6965588558\n",
      "Iteration: 799999, w0 = 444.17735664217383, w1 = 2.620538887423827, mse = 514675.69664033316\n",
      "Iteration: 899999, w0 = 444.1773572703746, w1 = 2.620538882800109, mse = 514675.6966467799\n",
      "Iteration: 999999, w0 = 444.17735732000256, w1 = 2.6205388824348343, mse = 514675.6966472891\n",
      "Линейная регрессия = 444.1774 + 2.6205x\n"
     ]
    }
   ],
   "source": [
    "x = np.array([35, 45, 190, 200, 40, 70, 54, 150, 120, 110]) #заработная плата заемщиков\n",
    "y = np.array([401, 574, 874, 919, 459, 739, 653, 902, 746, 832]) #поведенческий кредитный скоринг\n",
    "n = len(x)\n",
    "α = 5e-5\n",
    "w0 = 0.1\n",
    "w1 = 0.1\n",
    "\n",
    "def mse(w0=w0, w1=w1, y = y, x = x, n = n):\n",
    "    return sum((w0 + w1 * x - y) ** 2) / n\n",
    "\n",
    "for i in range(1000000):   \n",
    "    w0 -= α * (2 / n) * np.sum(w0 + w1 * x - y)\n",
    "    w1 -= α * (2 / n) * np.sum((w0 + w1 * x - y) * x)\n",
    "    if (i + 1) % 100000 == 0 :\n",
    "        print('Iteration: {i}, w0 = {w0}, w1 = {w1}, mse = {mse}'.format(i=i, w0=w0, w1=w1, mse=mse(w1)))\n",
    "print(f\"Линейная регрессия = {round(w0,4)} + {round(w1,4)}x\")"
   ]
  },
  {
   "cell_type": "code",
   "execution_count": 9,
   "id": "2d037734",
   "metadata": {},
   "outputs": [
    {
     "name": "stdout",
     "output_type": "stream",
     "text": [
      "Линейная регрессия y = 444.1773 + 2.6205x,\n",
      "634045 - итераций\n"
     ]
    }
   ],
   "source": [
    "α, w0, w1, eps = 5e-5, 0.1, 0.1, 1e-10\n",
    "w0_, w1_ = w0 + 2 * eps, w1 + 2 * eps\n",
    "stop, i = 1000000, 0\n",
    "while i <= stop and abs(w0 - w0_) * abs(w1 - w1_) > eps**2:\n",
    "    w0_, w1_, i = w0, w1, i + 1\n",
    "    w1 -= α * (2/n) * np.sum(((w0 + w1 * x) - y) * x)\n",
    "    w0 -= α * (2/n) * np.sum((w0 + w1 * x) - y)\n",
    "print(f'Линейная регрессия y = {round(w0, 4)} + {round(w1, 4)}x,\\n\\\n",
    "{i} - итераций')"
   ]
  },
  {
   "cell_type": "code",
   "execution_count": null,
   "id": "a91cf72a",
   "metadata": {},
   "outputs": [],
   "source": []
  }
 ],
 "metadata": {
  "kernelspec": {
   "display_name": "Python 3 (ipykernel)",
   "language": "python",
   "name": "python3"
  },
  "language_info": {
   "codemirror_mode": {
    "name": "ipython",
    "version": 3
   },
   "file_extension": ".py",
   "mimetype": "text/x-python",
   "name": "python",
   "nbconvert_exporter": "python",
   "pygments_lexer": "ipython3",
   "version": "3.9.12"
  }
 },
 "nbformat": 4,
 "nbformat_minor": 5
}
