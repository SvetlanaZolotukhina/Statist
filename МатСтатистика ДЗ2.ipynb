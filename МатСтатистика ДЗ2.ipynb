{
 "cells": [
  {
   "cell_type": "code",
   "execution_count": 11,
   "id": "90b2a535",
   "metadata": {},
   "outputs": [],
   "source": [
    "from math import factorial"
   ]
  },
  {
   "cell_type": "code",
   "execution_count": 12,
   "id": "c6cdce81",
   "metadata": {},
   "outputs": [],
   "source": [
    "# сочетание\n",
    "def combinations(n, k):\n",
    "    return int(factorial(n) / (factorial(k) * factorial(n - k)))"
   ]
  },
  {
   "cell_type": "code",
   "execution_count": 13,
   "id": "586ec8b0",
   "metadata": {},
   "outputs": [],
   "source": [
    "from math import exp"
   ]
  },
  {
   "cell_type": "markdown",
   "id": "c018e288",
   "metadata": {},
   "source": [
    "# 1 \n",
    "Вероятность того, что стрелок попадет в мишень, выстрелив один раз, равна 0.8. Стрелок выстрелил 100 раз. Найдите вероятность того, что стрелок попадет в цель ровно 85 раз."
   ]
  },
  {
   "cell_type": "markdown",
   "id": "0cf9c20b",
   "metadata": {},
   "source": [
    "У нас небольшое число испытаний, поэтому использовать будем формулу Бернулли"
   ]
  },
  {
   "cell_type": "code",
   "execution_count": 15,
   "id": "aa5fbafa",
   "metadata": {},
   "outputs": [
    {
     "name": "stdout",
     "output_type": "stream",
     "text": [
      "Вероятность, что стрелок попадет в цель ровно 85 раз = 4.806%\n"
     ]
    }
   ],
   "source": [
    "# Биномиальное распределение. Формула Бернулли\n",
    "n = 100\n",
    "p = 0.8\n",
    "k = 85\n",
    "q = 1-p\n",
    "P = combinations(n, k) * (p ** k) * (q ** (n-k)) \n",
    "print('Вероятность, что стрелок попадет в цель ровно 85 раз = {:.4}%'.format(P*100))"
   ]
  },
  {
   "cell_type": "markdown",
   "id": "532a2f62",
   "metadata": {},
   "source": [
    "# 2\n",
    "Вероятность того, что лампочка перегорит в течение первого дня эксплуатации, равна 0.0004. В жилом комплексе после ремонта в один день включили 5000 новых лампочек. Какова вероятность, что ни одна из них не перегорит в первый день? Какова вероятность, что перегорят ровно две?"
   ]
  },
  {
   "cell_type": "code",
   "execution_count": 16,
   "id": "e489dfa0",
   "metadata": {},
   "outputs": [
    {
     "name": "stdout",
     "output_type": "stream",
     "text": [
      "Вероятность, что ни одна из новых лампочек не перегорит в первый день = 13.53%\n"
     ]
    }
   ],
   "source": [
    "# Распределение Пуассона, т.к. большое кол-во испытаний и маленькая вероятность\n",
    "n = 5000\n",
    "p = 0.0004\n",
    "m = 0\n",
    "lamb = p * n\n",
    "P = ((lamb**m) / factorial(m)) * exp(-lamb) \n",
    "print('Вероятность, что ни одна из новых лампочек не перегорит в первый день = {:.4}%'.format(P*100))"
   ]
  },
  {
   "cell_type": "code",
   "execution_count": 17,
   "id": "3b0a8c89",
   "metadata": {},
   "outputs": [
    {
     "name": "stdout",
     "output_type": "stream",
     "text": [
      "Вероятность, что ровно 2 лампочки перегорят в первый день = 27.07%\n"
     ]
    }
   ],
   "source": [
    "# перегорит ровно 2 лампочки:\n",
    "n = 5000\n",
    "p = 0.0004\n",
    "m = 2\n",
    "lamb = p * n\n",
    "P = ((lamb**m) / factorial(m)) * exp(-lamb) \n",
    "print('Вероятность, что ровно 2 лампочки перегорят в первый день = {:.4}%'.format(P*100))"
   ]
  },
  {
   "cell_type": "markdown",
   "id": "81717592",
   "metadata": {},
   "source": [
    "# 3\n",
    "Монету подбросили 144 раза. Какова вероятность, что орел выпадет ровно 70 раз?"
   ]
  },
  {
   "cell_type": "code",
   "execution_count": 20,
   "id": "44ddea54",
   "metadata": {},
   "outputs": [
    {
     "name": "stdout",
     "output_type": "stream",
     "text": [
      "Вероятность, что орел выпадет ровно 70 раз = 6.281%\n"
     ]
    }
   ],
   "source": [
    "# Биномиальное распределение. Формула Бернулли (У нас небольшое число испытаний, поэтому использовать будем формулу Бернулли)\n",
    "n = 144\n",
    "p = 0.5\n",
    "k = 70\n",
    "q = 1-p\n",
    "P = combinations(n, k) * (p ** k) * (q ** (n-k)) \n",
    "print('Вероятность, что орел выпадет ровно 70 раз = {:.4}%'.format(P*100))"
   ]
  },
  {
   "cell_type": "markdown",
   "id": "675a98f1",
   "metadata": {},
   "source": [
    "# 4\n",
    "В первом ящике находится 10 мячей, из которых 7 - белые. Во втором ящике - 11 мячей, из которых 9 белых. Из каждого ящика вытаскивают случайным образом по два мяча. Какова вероятность того, что все мячи белые? Какова вероятность того, что ровно два мяча белые? Какова вероятность того, что хотя бы один мяч белый?"
   ]
  },
  {
   "cell_type": "code",
   "execution_count": 21,
   "id": "97310031",
   "metadata": {},
   "outputs": [
    {
     "name": "stdout",
     "output_type": "stream",
     "text": [
      "Вероятность, что все мячи белые = 30.55%\n"
     ]
    }
   ],
   "source": [
    "p = combinations(7, 2) / combinations(10, 2) * combinations(9, 2) / combinations(11, 2)\n",
    "\n",
    "print('Вероятность, что все мячи белые = {:.4}%'.format(p*100))"
   ]
  },
  {
   "cell_type": "code",
   "execution_count": 22,
   "id": "0ba1ae81",
   "metadata": {},
   "outputs": [
    {
     "name": "stdout",
     "output_type": "stream",
     "text": [
      "Вероятность, что все мячи белые = 30.55%\n"
     ]
    }
   ],
   "source": [
    "p_box1_ball2 = 7/10 * 6/9\n",
    "p_box2_ball2 = 9/11 * 8/10\n",
    "p = p_box1_ball2 * p_box2_ball2\n",
    "\n",
    "print('Вероятность, что все мячи белые = {:.4}%'.format(p*100))"
   ]
  },
  {
   "cell_type": "code",
   "execution_count": 23,
   "id": "6f0742cd",
   "metadata": {},
   "outputs": [
    {
     "name": "stdout",
     "output_type": "stream",
     "text": [
      "Вероятность, что ровно 2 мяча белые = 20.48%\n"
     ]
    }
   ],
   "source": [
    "# из 1 ящика 2 белых мяча и из 2 ящика 0 белых мячей\n",
    "p1 = combinations(7, 2) / combinations(10, 2) * combinations(2, 2) / combinations(11, 2)\n",
    "\n",
    "# из 1 ящика 1 белых мяча и из 2 ящика 1 белых мячей\n",
    "p2 = combinations(7, 1) * combinations(3, 1) / combinations(10, 2) * combinations(9, 1) * combinations(2, 1) / combinations(11, 2)\n",
    "\n",
    "# из 1 ящика 0 белых мяча и из 2 ящика 2 белых мячей\n",
    "p3 = combinations(3, 2) / combinations(10, 2) * combinations(9, 2) / combinations(11, 2)\n",
    "\n",
    "p = p1 + p2 + p3\n",
    "\n",
    "print('Вероятность, что ровно 2 мяча белые = {:.4}%'.format(p*100))"
   ]
  },
  {
   "cell_type": "code",
   "execution_count": 24,
   "id": "8ed23690",
   "metadata": {},
   "outputs": [
    {
     "name": "stdout",
     "output_type": "stream",
     "text": [
      "Вероятность, что ровно 2 мяча белые = 20.48%\n"
     ]
    }
   ],
   "source": [
    "# из 1 ящика 2 белых мяча и из 2 ящика 0 белых мячей\n",
    "p1 = 7/10 * 6/9 * 2/11 * 1/10\n",
    "\n",
    "# из 1 ящика 1 белых мяча и из 2 ящика 1 белых мячей\n",
    "p2 = (7/10 * 3/9 + 3/10 * 7/9) * (9/11 * 2/10 + 2/11 * 9/10)\n",
    "\n",
    "# из 1 ящика 0 белых мяча и из 2 ящика 2 белых мячей\n",
    "p3 = 3/10 * 2/9 * 9/11 * 8/10\n",
    "\n",
    "p = p1 + p2 + p3\n",
    "\n",
    "print('Вероятность, что ровно 2 мяча белые = {:.4}%'.format(p*100))"
   ]
  },
  {
   "cell_type": "code",
   "execution_count": 25,
   "id": "6ea1558f",
   "metadata": {},
   "outputs": [
    {
     "name": "stdout",
     "output_type": "stream",
     "text": [
      "Вероятность, что хотя бы один мяч белый = 99.88%\n"
     ]
    }
   ],
   "source": [
    "p = 1 - combinations(3, 2) / combinations(10, 2) * combinations(2, 2) / combinations(11, 2)\n",
    "print('Вероятность, что хотя бы один мяч белый = {:.4}%'.format(p*100))"
   ]
  },
  {
   "cell_type": "code",
   "execution_count": 26,
   "id": "b73d195d",
   "metadata": {},
   "outputs": [
    {
     "name": "stdout",
     "output_type": "stream",
     "text": [
      "Вероятность, что хотя бы один мяч белый = 99.88%\n"
     ]
    }
   ],
   "source": [
    "p = 1 - 3/10 * 2/9 * 2/11 * 1/10\n",
    "print('Вероятность, что хотя бы один мяч белый = {:.4}%'.format(p*100))"
   ]
  },
  {
   "cell_type": "code",
   "execution_count": null,
   "id": "c3a7972e",
   "metadata": {},
   "outputs": [],
   "source": []
  }
 ],
 "metadata": {
  "kernelspec": {
   "display_name": "Python 3 (ipykernel)",
   "language": "python",
   "name": "python3"
  },
  "language_info": {
   "codemirror_mode": {
    "name": "ipython",
    "version": 3
   },
   "file_extension": ".py",
   "mimetype": "text/x-python",
   "name": "python",
   "nbconvert_exporter": "python",
   "pygments_lexer": "ipython3",
   "version": "3.9.12"
  }
 },
 "nbformat": 4,
 "nbformat_minor": 5
}
